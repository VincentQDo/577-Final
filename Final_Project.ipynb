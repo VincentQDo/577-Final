{
 "cells": [
  {
   "cell_type": "markdown",
   "metadata": {
    "colab_type": "text",
    "id": "cRhIvVSCq3xF"
   },
   "source": [
    "Final Project\n",
    "\n",
    "PROJECT TOPIC Predict gender of baby name base on state\n",
    "\n",
    "Authors Vincent Q. Do, Dang H. Tran, and Ryan N. Treftz\n"
   ]
  },
  {
   "cell_type": "markdown",
   "metadata": {
    "colab_type": "text",
    "id": "oJUWbFnkubyt"
   },
   "source": [
    "# I. Introduction:\n",
    "\n",
    "This project is intended to make a prediction of a baby’s gender and its state.\n",
    "Predicting the baby’s gender will help the local government to have a better idea\n",
    "about the future workforce. This should give us some insight on how certain states\n",
    "like to name their children.\n"
   ]
  },
  {
   "cell_type": "markdown",
   "metadata": {
    "colab_type": "text",
    "id": "H6dKS6G2uqXo"
   },
   "source": [
    "# II. Data Source:\n",
    "\n",
    "The data source we are using is ‘US Baby Names’ dataset. Only names with at\n",
    "least 5 babies born in the same year/state are included in this dataset for privacy.\n",
    "Which means very unique names will be excluded."
   ]
  },
  {
   "cell_type": "markdown",
   "metadata": {
    "colab_type": "text",
    "id": "_COFxUVIvTQ_"
   },
   "source": [
    "# III  Outcome and Expectations:\n",
    "\n",
    "Create a model that will accurately predict the gender of a baby based on its\n",
    "name and the state it’s borned in.\n",
    "We expect the model to have somewhere around 80-90% accuracy because\n",
    "there are other variables that we are disregarding such as current time period, pop\n",
    "culture, and ethnicity.\n",
    "\n",
    "Using the name, we can predict what state the babies will be born in (use state population) => Professor suggestion"
   ]
  },
  {
   "cell_type": "markdown",
   "metadata": {},
   "source": [
    "# Task 1\n",
    "\n",
    "Read in the data"
   ]
  },
  {
   "cell_type": "code",
   "execution_count": 1,
   "metadata": {},
   "outputs": [],
   "source": [
    "#Proposal Solution\n",
    "import pandas as pd\n",
    "\n",
    "df = pd.read_csv(\"StateNames.csv\", usecols = ['Name', 'Year', 'Gender','State','Count'])"
   ]
  },
  {
   "cell_type": "markdown",
   "metadata": {},
   "source": [
    "# Task 2\n",
    "\n",
    "Decide on data structure to use"
   ]
  },
  {
   "cell_type": "markdown",
   "metadata": {},
   "source": [
    "# Task 3\n",
    "\n",
    "Split the data into `train, test`.\n",
    "- Train names are from prior to 2000\n",
    "- Test naes are from 2000 to 2014"
   ]
  },
  {
   "cell_type": "code",
   "execution_count": 2,
   "metadata": {},
   "outputs": [],
   "source": [
    "trainSet = df[(df['Year'] < 1980)].reset_index()\n",
    "devTestSet = df[(df['Year'] > 1979) & (df['Year'] < 2000)].reset_index()\n",
    "\n",
    "testSet = df[(df['Year'] >= 2000)].reset_index()"
   ]
  },
  {
   "cell_type": "code",
   "execution_count": 3,
   "metadata": {},
   "outputs": [],
   "source": [
    "# trainSet"
   ]
  },
  {
   "cell_type": "code",
   "execution_count": 4,
   "metadata": {
    "scrolled": false
   },
   "outputs": [],
   "source": [
    "# devTestSet"
   ]
  },
  {
   "cell_type": "code",
   "execution_count": 5,
   "metadata": {},
   "outputs": [],
   "source": [
    "babiesTrainSet = pd.DataFrame(trainSet.groupby(['State', 'Name', 'Gender'])['Count'].sum()).reset_index()\n",
    "# babiesTrainSet"
   ]
  },
  {
   "cell_type": "markdown",
   "metadata": {},
   "source": [
    "# Task 4\n",
    "\n",
    "Create teh classifier:\n",
    "- how many times a give name and gender appears\n",
    "- calculate population of states\n",
    "- prior prob"
   ]
  },
  {
   "cell_type": "code",
   "execution_count": 6,
   "metadata": {},
   "outputs": [],
   "source": [
    "def population(dataSet):\n",
    "    statePopulation = pd.DataFrame(dataSet.groupby(['State'])['Count'].sum()).reset_index()\n",
    "    countryPopulation = statePopulation.Count.sum()\n",
    "    return (statePopulation, countryPopulation)"
   ]
  },
  {
   "cell_type": "code",
   "execution_count": 7,
   "metadata": {},
   "outputs": [],
   "source": [
    "def getStatePopulation(dataFrameObjectColumn, state):\n",
    "    return int(dataFrameObjectColumn[0][dataFrameObjectColumn[0].State == state].Count)"
   ]
  },
  {
   "cell_type": "code",
   "execution_count": 8,
   "metadata": {},
   "outputs": [],
   "source": [
    "def priorProb(statePopulation, countryPopulation):\n",
    "    return statePopulation/countryPopulation"
   ]
  },
  {
   "cell_type": "code",
   "execution_count": 9,
   "metadata": {},
   "outputs": [],
   "source": [
    "countryAndStatePop = population(trainSet)"
   ]
  },
  {
   "cell_type": "code",
   "execution_count": 10,
   "metadata": {},
   "outputs": [],
   "source": [
    "akPopulation = getStatePopulation(countryAndStatePop, 'CA')"
   ]
  },
  {
   "cell_type": "code",
   "execution_count": 11,
   "metadata": {},
   "outputs": [
    {
     "data": {
      "text/plain": [
       "0.07034099738201526"
      ]
     },
     "execution_count": 11,
     "metadata": {},
     "output_type": "execute_result"
    }
   ],
   "source": [
    "akPrior = priorProb(akPopulation, countryAndStatePop[1])\n",
    "akPrior"
   ]
  },
  {
   "cell_type": "code",
   "execution_count": null,
   "metadata": {},
   "outputs": [],
   "source": []
  }
 ],
 "metadata": {
  "colab": {
   "collapsed_sections": [],
   "name": "Final Project.ipynb",
   "provenance": [],
   "toc_visible": true
  },
  "kernelspec": {
   "display_name": "Python 3",
   "language": "python",
   "name": "python3"
  },
  "language_info": {
   "codemirror_mode": {
    "name": "ipython",
    "version": 3
   },
   "file_extension": ".py",
   "mimetype": "text/x-python",
   "name": "python",
   "nbconvert_exporter": "python",
   "pygments_lexer": "ipython3",
   "version": "3.8.0"
  }
 },
 "nbformat": 4,
 "nbformat_minor": 1
}
