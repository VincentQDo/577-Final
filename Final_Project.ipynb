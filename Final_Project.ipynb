{
 "cells": [
  {
   "cell_type": "markdown",
   "metadata": {
    "colab_type": "text",
    "id": "cRhIvVSCq3xF"
   },
   "source": [
    "Final Project\n",
    "\n",
    "PROJECT TOPIC Predict gender of baby name base on state\n",
    "\n",
    "Authors Vincent Q. Do, Dang H. Tran, and Ryan N. Treftz\n"
   ]
  },
  {
   "cell_type": "markdown",
   "metadata": {
    "colab_type": "text",
    "id": "oJUWbFnkubyt"
   },
   "source": [
    "# I. Introduction:\n",
    "\n",
    "This project is intended to make a prediction of a baby’s gender and its state.\n",
    "Predicting the baby’s gender will help the local government to have a better idea\n",
    "about the future workforce. This should give us some insight on how certain states\n",
    "like to name their children.\n"
   ]
  },
  {
   "cell_type": "markdown",
   "metadata": {
    "colab_type": "text",
    "id": "H6dKS6G2uqXo"
   },
   "source": [
    "# II. Data Source:\n",
    "\n",
    "The data source we are using is ‘US Baby Names’ dataset. Only names with at\n",
    "least 5 babies born in the same year/state are included in this dataset for privacy.\n",
    "Which means very unique names will be excluded."
   ]
  },
  {
   "cell_type": "markdown",
   "metadata": {
    "colab_type": "text",
    "id": "_COFxUVIvTQ_"
   },
   "source": [
    "# III  Outcome and Expectations:\n",
    "\n",
    "Create a model that will accurately predict the gender of a baby based on its\n",
    "name and the state it’s borned in.\n",
    "We expect the model to have somewhere around 80-90% accuracy because\n",
    "there are other variables that we are disregarding such as current time period, pop\n",
    "culture, and ethnicity.\n",
    "\n",
    "Using the name, we can predict what state the babies will be born in (use state population) => Professor suggestion"
   ]
  },
  {
   "cell_type": "markdown",
   "metadata": {},
   "source": [
    "# Task 1\n",
    "\n",
    "Read in the data"
   ]
  },
  {
   "cell_type": "code",
   "execution_count": null,
   "metadata": {},
   "outputs": [],
   "source": [
    "#Proposal Solution\n",
    "import pandas as pd\n",
    "\n",
    "df = pd.read_csv(\"StateNames.csv\", usecols = ['Name', 'Year', 'Gender','State','Count'])"
   ]
  },
  {
   "cell_type": "markdown",
   "metadata": {},
   "source": [
    "# Task 2\n",
    "\n",
    "Decide on data structure to use"
   ]
  },
  {
   "cell_type": "markdown",
   "metadata": {},
   "source": [
    "# Task 3\n",
    "\n",
    "Split the data into `train, test`.\n",
    "- Train names are from prior to 2000\n",
    "- Test naes are from 2000 to 2014"
   ]
  },
  {
   "cell_type": "code",
   "execution_count": 17,
   "metadata": {},
   "outputs": [],
   "source": [
    "trainSet = df[(df['Year'] < 2000)].reset_index()\n",
    "testSet = df[(df['Year'] >= 2000)].reset_index()"
   ]
  },
  {
   "cell_type": "code",
   "execution_count": 18,
   "metadata": {},
   "outputs": [
    {
     "data": {
      "text/html": [
       "<div>\n",
       "<style scoped>\n",
       "    .dataframe tbody tr th:only-of-type {\n",
       "        vertical-align: middle;\n",
       "    }\n",
       "\n",
       "    .dataframe tbody tr th {\n",
       "        vertical-align: top;\n",
       "    }\n",
       "\n",
       "    .dataframe thead th {\n",
       "        text-align: right;\n",
       "    }\n",
       "</style>\n",
       "<table border=\"1\" class=\"dataframe\">\n",
       "  <thead>\n",
       "    <tr style=\"text-align: right;\">\n",
       "      <th></th>\n",
       "      <th>State</th>\n",
       "      <th>Name</th>\n",
       "      <th>Gender</th>\n",
       "      <th>Count</th>\n",
       "    </tr>\n",
       "  </thead>\n",
       "  <tbody>\n",
       "    <tr>\n",
       "      <th>0</th>\n",
       "      <td>AK</td>\n",
       "      <td>Aaliyah</td>\n",
       "      <td>F</td>\n",
       "      <td>5</td>\n",
       "    </tr>\n",
       "    <tr>\n",
       "      <th>1</th>\n",
       "      <td>AK</td>\n",
       "      <td>Aaron</td>\n",
       "      <td>M</td>\n",
       "      <td>1389</td>\n",
       "    </tr>\n",
       "    <tr>\n",
       "      <th>2</th>\n",
       "      <td>AK</td>\n",
       "      <td>Abby</td>\n",
       "      <td>F</td>\n",
       "      <td>8</td>\n",
       "    </tr>\n",
       "    <tr>\n",
       "      <th>3</th>\n",
       "      <td>AK</td>\n",
       "      <td>Abigail</td>\n",
       "      <td>F</td>\n",
       "      <td>201</td>\n",
       "    </tr>\n",
       "    <tr>\n",
       "      <th>4</th>\n",
       "      <td>AK</td>\n",
       "      <td>Abraham</td>\n",
       "      <td>M</td>\n",
       "      <td>37</td>\n",
       "    </tr>\n",
       "    <tr>\n",
       "      <th>...</th>\n",
       "      <td>...</td>\n",
       "      <td>...</td>\n",
       "      <td>...</td>\n",
       "      <td>...</td>\n",
       "    </tr>\n",
       "    <tr>\n",
       "      <th>227665</th>\n",
       "      <td>WY</td>\n",
       "      <td>Zachery</td>\n",
       "      <td>M</td>\n",
       "      <td>7</td>\n",
       "    </tr>\n",
       "    <tr>\n",
       "      <th>227666</th>\n",
       "      <td>WY</td>\n",
       "      <td>Zackary</td>\n",
       "      <td>M</td>\n",
       "      <td>11</td>\n",
       "    </tr>\n",
       "    <tr>\n",
       "      <th>227667</th>\n",
       "      <td>WY</td>\n",
       "      <td>Zane</td>\n",
       "      <td>M</td>\n",
       "      <td>42</td>\n",
       "    </tr>\n",
       "    <tr>\n",
       "      <th>227668</th>\n",
       "      <td>WY</td>\n",
       "      <td>Zella</td>\n",
       "      <td>F</td>\n",
       "      <td>5</td>\n",
       "    </tr>\n",
       "    <tr>\n",
       "      <th>227669</th>\n",
       "      <td>WY</td>\n",
       "      <td>Zoe</td>\n",
       "      <td>F</td>\n",
       "      <td>22</td>\n",
       "    </tr>\n",
       "  </tbody>\n",
       "</table>\n",
       "<p>227670 rows × 4 columns</p>\n",
       "</div>"
      ],
      "text/plain": [
       "       State     Name Gender  Count\n",
       "0         AK  Aaliyah      F      5\n",
       "1         AK    Aaron      M   1389\n",
       "2         AK     Abby      F      8\n",
       "3         AK  Abigail      F    201\n",
       "4         AK  Abraham      M     37\n",
       "...      ...      ...    ...    ...\n",
       "227665    WY  Zachery      M      7\n",
       "227666    WY  Zackary      M     11\n",
       "227667    WY     Zane      M     42\n",
       "227668    WY    Zella      F      5\n",
       "227669    WY      Zoe      F     22\n",
       "\n",
       "[227670 rows x 4 columns]"
      ]
     },
     "execution_count": 18,
     "metadata": {},
     "output_type": "execute_result"
    }
   ],
   "source": [
    "babiesTrainSet = pd.DataFrame(trainSet.groupby(['State', 'Name', 'Gender'])['Count'].sum()).reset_index()\n",
    "babiesTrainSet"
   ]
  },
  {
   "cell_type": "markdown",
   "metadata": {},
   "source": [
    "# Task 4\n",
    "\n",
    "Learn the Bayes classifier on the train set"
   ]
  },
  {
   "cell_type": "code",
   "execution_count": null,
   "metadata": {},
   "outputs": [],
   "source": []
  }
 ],
 "metadata": {
  "colab": {
   "collapsed_sections": [],
   "name": "Final Project.ipynb",
   "provenance": [],
   "toc_visible": true
  },
  "kernelspec": {
   "display_name": "Python 3",
   "language": "python",
   "name": "python3"
  },
  "language_info": {
   "codemirror_mode": {
    "name": "ipython",
    "version": 3
   },
   "file_extension": ".py",
   "mimetype": "text/x-python",
   "name": "python",
   "nbconvert_exporter": "python",
   "pygments_lexer": "ipython3",
   "version": "3.8.0"
  }
 },
 "nbformat": 4,
 "nbformat_minor": 1
}
