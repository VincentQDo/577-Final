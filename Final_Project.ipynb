{
 "cells": [
  {
   "cell_type": "markdown",
   "metadata": {
    "colab_type": "text",
    "id": "cRhIvVSCq3xF"
   },
   "source": [
    "Final Project\n",
    "\n",
    "PROJECT TOPIC Predict gender of baby name base on state\n",
    "\n",
    "Authors Vincent Q. Do, Dang H. Tran, and Ryan N. Treftz\n"
   ]
  },
  {
   "cell_type": "markdown",
   "metadata": {
    "colab_type": "text",
    "id": "oJUWbFnkubyt"
   },
   "source": [
    "# I. Introduction:\n",
    "\n",
    "This project is intended to make a prediction of a baby’s gender and its state.\n",
    "Predicting the baby’s gender will help the local government to have a better idea\n",
    "about the future workforce. This should give us some insight on how certain states\n",
    "like to name their children.\n"
   ]
  },
  {
   "cell_type": "markdown",
   "metadata": {
    "colab_type": "text",
    "id": "H6dKS6G2uqXo"
   },
   "source": [
    "# II. Data Source:\n",
    "\n",
    "The data source we are using is ‘US Baby Names’ dataset. Only names with at\n",
    "least 5 babies born in the same year/state are included in this dataset for privacy.\n",
    "Which means very unique names will be excluded."
   ]
  },
  {
   "cell_type": "markdown",
   "metadata": {
    "colab_type": "text",
    "id": "_COFxUVIvTQ_"
   },
   "source": [
    "# III  Outcome and Expectations:\n",
    "\n",
    "Create a model that will accurately predict the gender of a baby based on its\n",
    "name and the state it’s borned in.\n",
    "We expect the model to have somewhere around 80-90% accuracy because\n",
    "there are other variables that we are disregarding such as current time period, pop\n",
    "culture, and ethnicity.\n",
    "\n",
    "Using the name, we can predict what state the babies will be born in (use state population) => Professor suggestion"
   ]
  },
  {
   "cell_type": "markdown",
   "metadata": {},
   "source": [
    "# Task 1\n",
    "\n",
    "Read in the data"
   ]
  },
  {
   "cell_type": "code",
   "execution_count": 339,
   "metadata": {},
   "outputs": [],
   "source": [
    "#Proposal Solution\n",
    "import pandas as pd\n",
    "import math\n",
    "\n",
    "df = pd.read_csv(\"StateNames.csv\", usecols = ['Name', 'Year', 'Gender','State','Count'])"
   ]
  },
  {
   "cell_type": "markdown",
   "metadata": {},
   "source": [
    "# Task 2\n",
    "\n",
    "Decide on data structure to use"
   ]
  },
  {
   "cell_type": "markdown",
   "metadata": {},
   "source": [
    "# Task 3\n",
    "\n",
    "Split the data into `train, test`.\n",
    "- Train names are from prior to 2000\n",
    "- Test names are from 2000 to 2014"
   ]
  },
  {
   "cell_type": "code",
   "execution_count": 340,
   "metadata": {},
   "outputs": [],
   "source": [
    "#Split the data into a training, devtest and test sets. (52% train, 24% devtest and 24% test)\n",
    "train_names = df[(df['Year'] < 1980)]\n",
    "train_names_data = pd.DataFrame(train_names.groupby([\"State\", \"Name\"])[\"Count\"].sum()).reset_index()\n",
    "\n",
    "devtest_names = df[(df['Year'] > 1979) & (df['Year'] < 2000)]\n",
    "test_names = df[(df['Year'] >= 2000)]"
   ]
  },
  {
   "cell_type": "markdown",
   "metadata": {},
   "source": [
    "# Task 4\n",
    "\n",
    "Create the classifier:\n",
    "- how many times a give name and gender appears\n",
    "- calculate population of states\n",
    "- prior prob"
   ]
  },
  {
   "cell_type": "code",
   "execution_count": 116,
   "metadata": {},
   "outputs": [],
   "source": [
    "def population(data):\n",
    "    #Get the total number of times each name appears for each state.\n",
    "    state = pd.DataFrame(data.groupby(['State'])['Count'].sum()).reset_index()\n",
    "    #retain the total number of records.\n",
    "    country = state.Count.sum()\n",
    "    return (state, country)\n",
    "\n",
    "#Store the state dataset and country count for the training set.\n",
    "state_data, country_population = population(train_names)"
   ]
  },
  {
   "cell_type": "code",
   "execution_count": 271,
   "metadata": {},
   "outputs": [],
   "source": [
    "def prior_probabilities(state, total):\n",
    "    return int(state_data[state_data.State == state].Count) / total"
   ]
  },
  {
   "cell_type": "code",
   "execution_count": 247,
   "metadata": {},
   "outputs": [
    {
     "data": {
      "text/plain": [
       "0.06594550079239292"
      ]
     },
     "execution_count": 247,
     "metadata": {},
     "output_type": "execute_result"
    }
   ],
   "source": [
    "test_prior = prior_probabilities(\"PA\", country_population)\n",
    "test_prior"
   ]
  },
  {
   "cell_type": "code",
   "execution_count": 61,
   "metadata": {},
   "outputs": [
    {
     "data": {
      "text/plain": [
       "True"
      ]
     },
     "execution_count": 61,
     "metadata": {},
     "output_type": "execute_result"
    }
   ],
   "source": [
    "state_data[state_data.State == \"PA\"].any().State\n",
    "#state_data[\"State\"].str.contains(\"PA\")"
   ]
  },
  {
   "cell_type": "code",
   "execution_count": 385,
   "metadata": {},
   "outputs": [],
   "source": [
    "def conditional_probability(data, state, name, num_of_names, vocab_size):\n",
    "    #P(w|c) = count(w,c) + 1 / count(c) + |V|\n",
    "    if data[data.State == state].any().State and data[data.Name == name].any().Name:\n",
    "        count = int(data[(data.State == state) & (data.Name == name)].Count)\n",
    "        result = (count + 1) / (num_of_names + vocab_size)\n",
    "    else:\n",
    "        result = 1 / (num_of_names + vocab_size)\n",
    "    return result"
   ]
  },
  {
   "cell_type": "code",
   "execution_count": 289,
   "metadata": {},
   "outputs": [],
   "source": [
    "states = [\"AL\", \"AK\", \"AZ\", \"AR\", \"CA\", \"CO\", \"CT\", \"DC\", \"DE\", \"FL\", \"GA\", \n",
    "          \"HI\", \"ID\", \"IL\", \"IN\", \"IA\", \"KS\", \"KY\", \"LA\", \"ME\", \"MD\", \n",
    "          \"MA\", \"MI\", \"MN\", \"MS\", \"MO\", \"MT\", \"NE\", \"NV\", \"NH\", \"NJ\", \n",
    "          \"NM\", \"NY\", \"NC\", \"ND\", \"OH\", \"OK\", \"OR\", \"PA\", \"RI\", \"SC\", \n",
    "          \"SD\", \"TN\", \"TX\", \"UT\", \"VT\", \"VA\", \"WA\", \"WV\", \"WI\", \"WY\"]"
   ]
  },
  {
   "cell_type": "code",
   "execution_count": 378,
   "metadata": {},
   "outputs": [],
   "source": [
    "def nb_classifier(name, size):\n",
    "    state_prob = {}\n",
    "    \n",
    "    for state in states:\n",
    "        state_prior = prior_probabilities(state, country_population) \n",
    "        state_cp = conditional_probability(train_names_data, state, name, country_population, size)\n",
    "        state_prob[state] = math.log10(state_prior) + math.log10(state_cp) \n",
    "    \n",
    "    return [key for key, value in state_prob.items() if value == max(state_prob.values())]"
   ]
  },
  {
   "cell_type": "code",
   "execution_count": 379,
   "metadata": {},
   "outputs": [],
   "source": [
    "def test_classifier(data):\n",
    "    total = correct = 0\n",
    "    size = len(set(train_names.Name))\n",
    "    for index, row in data.iterrows():\n",
    "        print(row[\"Name\"])\n",
    "        guess = nb_classifier(row[\"Name\"], size)\n",
    "        print(guess, row[\"State\"])\n",
    "        if guess == row[\"State\"]:\n",
    "            correct += 1\n",
    "        total += 1\n",
    "    return (correct/total) * 100"
   ]
  },
  {
   "cell_type": "code",
   "execution_count": 386,
   "metadata": {},
   "outputs": [
    {
     "name": "stdout",
     "output_type": "stream",
     "text": [
      "Jessica\n",
      "['NY'] AK\n",
      "Jennifer\n",
      "['CA'] AK\n",
      "Sarah\n",
      "['NY'] AK\n",
      "Amanda\n",
      "['TX'] AK\n",
      "Melissa\n",
      "['NY'] AK\n"
     ]
    },
    {
     "data": {
      "text/plain": [
       "0.0"
      ]
     },
     "execution_count": 386,
     "metadata": {},
     "output_type": "execute_result"
    }
   ],
   "source": [
    "test_classifier(devtest_names[0:5])"
   ]
  },
  {
   "cell_type": "code",
   "execution_count": 224,
   "metadata": {},
   "outputs": [
    {
     "data": {
      "text/plain": [
       "0     Jessica\n",
       "1    Jennifer\n",
       "2       Sarah\n",
       "3      Amanda\n",
       "4     Melissa\n",
       "Name: Name, dtype: object"
      ]
     },
     "execution_count": 224,
     "metadata": {},
     "output_type": "execute_result"
    }
   ],
   "source": [
    "devtest_names[:5].Name\n",
    "#test = nb_classifier(set(devtest_names.Name), state_data)\n",
    "#train_names[train_names.State == \"PA\"].any().State and train_names[train_names.Name == \"Ryan\"].any().Name"
   ]
  },
  {
   "cell_type": "code",
   "execution_count": 375,
   "metadata": {},
   "outputs": [
    {
     "data": {
      "text/plain": [
       "3.8860460805709485e-05"
      ]
     },
     "execution_count": 375,
     "metadata": {},
     "output_type": "execute_result"
    }
   ],
   "source": [
    "#size = len(set(train_names.Name))\n",
    "conditional_probabilities(train_names, \"PA\", \"Aaron\", country_population, size)"
   ]
  },
  {
   "cell_type": "code",
   "execution_count": 168,
   "metadata": {},
   "outputs": [],
   "source": [
    "#Example of how to include gender in the returned label. Given the name predict the state and gender.\n",
    "#This would require that the male and female conditional probabilites are calculated for each name in the classifier.\n",
    "#example_data = pd.DataFrame(train_names.groupby(['State', 'Name', 'Gender'])['Count'].sum()).reset_index()\n",
    "#state_count = int(name_data[(name_data.State == \"AK\") & (name_data.Name == \"Aaron\") & (name_data.Gender == \"M\")].Count)"
   ]
  },
  {
   "cell_type": "code",
   "execution_count": null,
   "metadata": {},
   "outputs": [],
   "source": []
  },
  {
   "cell_type": "code",
   "execution_count": 370,
   "metadata": {},
   "outputs": [
    {
     "name": "stdout",
     "output_type": "stream",
     "text": [
      "0.052522673656265555\n"
     ]
    }
   ],
   "source": [
    "#baseline\n",
    "baseline = {}\n",
    "for state in train_names.State:\n",
    "    if state not in baseline:\n",
    "        baseline[state] = 0\n",
    "    baseline[state] += 1\n",
    "    \n",
    "max_value = [(key,value) for key, value in baseline.items() if value == max(baseline.values())]\n",
    "print(max_value[0][1] / len(train_names.Name))"
   ]
  }
 ],
 "metadata": {
  "colab": {
   "collapsed_sections": [],
   "name": "Final Project.ipynb",
   "provenance": [],
   "toc_visible": true
  },
  "kernelspec": {
   "display_name": "Python 3",
   "language": "python",
   "name": "python3"
  },
  "language_info": {
   "codemirror_mode": {
    "name": "ipython",
    "version": 3
   },
   "file_extension": ".py",
   "mimetype": "text/x-python",
   "name": "python",
   "nbconvert_exporter": "python",
   "pygments_lexer": "ipython3",
   "version": "3.7.6"
  }
 },
 "nbformat": 4,
 "nbformat_minor": 1
}
